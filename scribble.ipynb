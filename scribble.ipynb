{
 "cells": [
  {
   "cell_type": "markdown",
   "metadata": {},
   "source": [
    "Various tests for performance using Numpy"
   ]
  },
  {
   "cell_type": "code",
   "execution_count": 5,
   "metadata": {
    "collapsed": true
   },
   "outputs": [],
   "source": [
    "import numpy as np"
   ]
  },
  {
   "cell_type": "markdown",
   "metadata": {},
   "source": [
    " "
   ]
  },
  {
   "cell_type": "markdown",
   "metadata": {},
   "source": [
    "How to populate Numpy array:\n"
   ]
  },
  {
   "cell_type": "code",
   "execution_count": 29,
   "metadata": {},
   "outputs": [
    {
     "name": "stdout",
     "output_type": "stream",
     "text": [
      "100 loops, best of 3: 3.25 ms per loop\n"
     ]
    }
   ],
   "source": [
    "%%timeit\n",
    "a = np.zeros([100, 1000])\n",
    "for i in range(100):\n",
    "    a[i] = np.random.randint(0, 8, size=(1000))"
   ]
  },
  {
   "cell_type": "code",
   "execution_count": 30,
   "metadata": {},
   "outputs": [
    {
     "name": "stdout",
     "output_type": "stream",
     "text": [
      "100 loops, best of 3: 3.06 ms per loop\n"
     ]
    }
   ],
   "source": [
    "%%timeit\n",
    "b = []\n",
    "for i in range(100):\n",
    "    b.append(np.random.randint(0, 8, size=(1000)))\n",
    "a = np.array(b)"
   ]
  },
  {
   "cell_type": "markdown",
   "metadata": {},
   "source": [
    " "
   ]
  },
  {
   "cell_type": "markdown",
   "metadata": {},
   "source": [
    "Importance of not breaking a pipeline:"
   ]
  },
  {
   "cell_type": "code",
   "execution_count": 48,
   "metadata": {},
   "outputs": [
    {
     "name": "stdout",
     "output_type": "stream",
     "text": [
      "1000 loops, best of 3: 244 µs per loop\n"
     ]
    }
   ],
   "source": [
    "%%timeit\n",
    "a = 0\n",
    "c = 32\n",
    "for i in range(1024):\n",
    "    if i % c == 0:\n",
    "        a += 1"
   ]
  },
  {
   "cell_type": "code",
   "execution_count": 46,
   "metadata": {},
   "outputs": [
    {
     "name": "stdout",
     "output_type": "stream",
     "text": [
      "10000 loops, best of 3: 85.1 µs per loop\n"
     ]
    }
   ],
   "source": [
    "%%timeit\n",
    "a = 0\n",
    "c = 32\n",
    "for i in range(int(1024 / c)):\n",
    "    for j in range(c):\n",
    "        pass\n",
    "    a += 1"
   ]
  },
  {
   "cell_type": "markdown",
   "metadata": {},
   "source": [
    " \n"
   ]
  },
  {
   "cell_type": "markdown",
   "metadata": {},
   "source": [
    "Cost of one `if` statement:"
   ]
  },
  {
   "cell_type": "code",
   "execution_count": 55,
   "metadata": {},
   "outputs": [
    {
     "name": "stdout",
     "output_type": "stream",
     "text": [
      "10000 loops, best of 3: 72.9 µs per loop\n"
     ]
    }
   ],
   "source": [
    "%%timeit\n",
    "for i in range(1024):\n",
    "    if False:\n",
    "        pass"
   ]
  },
  {
   "cell_type": "code",
   "execution_count": 56,
   "metadata": {},
   "outputs": [
    {
     "name": "stdout",
     "output_type": "stream",
     "text": [
      "10000 loops, best of 3: 72.6 µs per loop\n"
     ]
    }
   ],
   "source": [
    "%%timeit\n",
    "for i in range(1024):\n",
    "    pass"
   ]
  },
  {
   "cell_type": "markdown",
   "metadata": {},
   "source": [
    " \n"
   ]
  },
  {
   "cell_type": "markdown",
   "metadata": {},
   "source": [
    "Expensive conversion of NaN to 0:"
   ]
  },
  {
   "cell_type": "code",
   "execution_count": 78,
   "metadata": {},
   "outputs": [
    {
     "name": "stdout",
     "output_type": "stream",
     "text": [
      "10000 loops, best of 3: 35.3 µs per loop\n"
     ]
    }
   ],
   "source": [
    "%%timeit a = np.arange(32, dtype='float'); s = 0;\n",
    "for i in np.arange(32):\n",
    "    s += a[i]"
   ]
  },
  {
   "cell_type": "code",
   "execution_count": 85,
   "metadata": {},
   "outputs": [
    {
     "name": "stdout",
     "output_type": "stream",
     "text": [
      "100 loops, best of 3: 2.06 ms per loop\n"
     ]
    }
   ],
   "source": [
    "%%timeit a = np.arange(32, dtype='float'); s = 0; a[np.random.choice(np.arange(32), size=8, replace=False)] = np.nan\n",
    "for i in np.arange(32):\n",
    "    s += np.nan_to_num(a[i])"
   ]
  },
  {
   "cell_type": "code",
   "execution_count": 86,
   "metadata": {},
   "outputs": [
    {
     "name": "stdout",
     "output_type": "stream",
     "text": [
      "10000 loops, best of 3: 41.4 µs per loop\n"
     ]
    }
   ],
   "source": [
    "%%timeit a = np.arange(32, dtype='float'); s = 0; a[np.random.choice(np.arange(32), size=8, replace=False)] = np.nan\n",
    "a[a == np.nan] = 0\n",
    "for i in np.arange(32):\n",
    "    s += a[i]"
   ]
  }
 ],
 "metadata": {
  "kernelspec": {
   "display_name": "Python 3",
   "language": "python",
   "name": "python3"
  }
 },
 "nbformat": 4,
 "nbformat_minor": 2
}
